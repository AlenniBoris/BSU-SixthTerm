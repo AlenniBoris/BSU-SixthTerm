{
 "cells": [
  {
   "cell_type": "code",
   "execution_count": 14,
   "id": "initial_id",
   "metadata": {
    "ExecuteTime": {
     "end_time": "2024-04-18T20:34:48.826229Z",
     "start_time": "2024-04-18T20:34:46.739402Z"
    },
    "collapsed": true
   },
   "outputs": [],
   "source": [
    "from keras.models import load_model\n",
    "\n",
    "import matplotlib.pyplot as plt\n",
    "\n",
    "import numpy\n",
    "\n",
    "from keras.preprocessing import image"
   ]
  },
  {
   "cell_type": "code",
   "execution_count": 15,
   "id": "34e6f6cda4a4bb60",
   "metadata": {
    "ExecuteTime": {
     "end_time": "2024-04-18T20:38:38.107927Z",
     "start_time": "2024-04-18T20:38:38.089278Z"
    }
   },
   "outputs": [],
   "source": [
    "img_path = 'frog.jpg'\n",
    "\n",
    "img = image.load_img(img_path, target_size=(32, 32))"
   ]
  },
  {
   "cell_type": "code",
   "execution_count": 16,
   "id": "e6aa2cb0563ff55f",
   "metadata": {
    "ExecuteTime": {
     "end_time": "2024-04-18T20:38:41.606173Z",
     "start_time": "2024-04-18T20:38:41.600141Z"
    }
   },
   "outputs": [
    {
     "data": {
      "text/plain": [
       "(1, 32, 32, 3)"
      ]
     },
     "execution_count": 16,
     "metadata": {},
     "output_type": "execute_result"
    }
   ],
   "source": [
    "x = image.img_to_array(img)\n",
    "\n",
    "x /= 255\n",
    "\n",
    "x = numpy.expand_dims(x, axis=0)\n",
    "\n",
    "x.shape"
   ]
  },
  {
   "cell_type": "code",
   "execution_count": 17,
   "id": "edff0b1201f73fe1",
   "metadata": {
    "ExecuteTime": {
     "end_time": "2024-04-18T20:39:32.386440Z",
     "start_time": "2024-04-18T20:39:32.095721Z"
    }
   },
   "outputs": [],
   "source": [
    "loaded_model = load_model('cifar_10_epochs.keras')"
   ]
  },
  {
   "cell_type": "code",
   "execution_count": 18,
   "id": "28132a5ee83e2e",
   "metadata": {
    "ExecuteTime": {
     "end_time": "2024-04-18T20:39:47.323604Z",
     "start_time": "2024-04-18T20:39:47.156856Z"
    }
   },
   "outputs": [
    {
     "name": "stdout",
     "output_type": "stream",
     "text": [
      "\u001b[1m1/1\u001b[0m \u001b[32m━━━━━━━━━━━━━━━━━━━━\u001b[0m\u001b[37m\u001b[0m \u001b[1m0s\u001b[0m 118ms/step\n",
      "[[2.1884346e-03 1.9555237e-06 2.8476608e-01 1.4363950e-02 4.4201851e-02\n",
      "  1.3714251e-02 6.4001167e-01 2.2236680e-04 5.2043464e-04 8.9746809e-06]]\n"
     ]
    }
   ],
   "source": [
    "# Запускаем распознавание объекта:\n",
    "\n",
    "prediction = loaded_model.predict(x)\n",
    "\n",
    "print(prediction)"
   ]
  },
  {
   "cell_type": "code",
   "execution_count": 19,
   "id": "148885a49b29833e",
   "metadata": {
    "ExecuteTime": {
     "end_time": "2024-04-18T20:39:57.320317Z",
     "start_time": "2024-04-18T20:39:57.314689Z"
    }
   },
   "outputs": [
    {
     "name": "stdout",
     "output_type": "stream",
     "text": [
      "лягушка\n"
     ]
    }
   ],
   "source": [
    "\n",
    "# Для удобства вывода задаем список с названиями классов объектов:\n",
    "\n",
    "classes=['самолет', 'автомобиль', 'птица', 'кот', 'олень', 'собака', 'лягушка', 'лошадь', 'корабль', 'грузовик']\n",
    "\n",
    "# Печатаем результат распознавания:\n",
    "\n",
    "print(classes[numpy.argmax(prediction)])"
   ]
  }
 ],
 "metadata": {
  "kernelspec": {
   "display_name": "Python 3",
   "language": "python",
   "name": "python3"
  },
  "language_info": {
   "codemirror_mode": {
    "name": "ipython",
    "version": 3
   },
   "file_extension": ".py",
   "mimetype": "text/x-python",
   "name": "python",
   "nbconvert_exporter": "python",
   "pygments_lexer": "ipython3",
   "version": "3.11.6"
  }
 },
 "nbformat": 4,
 "nbformat_minor": 5
}
