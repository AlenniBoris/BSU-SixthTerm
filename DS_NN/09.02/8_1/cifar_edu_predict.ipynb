{
 "cells": [
  {
   "cell_type": "code",
   "execution_count": 1,
   "id": "initial_id",
   "metadata": {
    "ExecuteTime": {
     "end_time": "2024-04-18T20:34:48.826229Z",
     "start_time": "2024-04-18T20:34:46.739402Z"
    },
    "collapsed": true
   },
   "outputs": [],
   "source": [
    "from keras.models import load_model\n",
    "\n",
    "import matplotlib.pyplot as plt\n",
    "\n",
    "import numpy\n",
    "\n",
    "from keras.preprocessing import image"
   ]
  },
  {
   "cell_type": "code",
   "execution_count": 7,
   "id": "34e6f6cda4a4bb60",
   "metadata": {
    "ExecuteTime": {
     "end_time": "2024-04-18T20:38:38.107927Z",
     "start_time": "2024-04-18T20:38:38.089278Z"
    }
   },
   "outputs": [],
   "source": [
    "img_path = 'frog.jpg'\n",
    "\n",
    "img = image.load_img(img_path, target_size=(32, 32))"
   ]
  },
  {
   "cell_type": "code",
   "execution_count": 8,
   "id": "e6aa2cb0563ff55f",
   "metadata": {
    "ExecuteTime": {
     "end_time": "2024-04-18T20:38:41.606173Z",
     "start_time": "2024-04-18T20:38:41.600141Z"
    }
   },
   "outputs": [
    {
     "data": {
      "text/plain": [
       "(1, 32, 32, 3)"
      ]
     },
     "execution_count": 8,
     "metadata": {},
     "output_type": "execute_result"
    }
   ],
   "source": [
    "x = image.img_to_array(img)\n",
    "\n",
    "x /= 255\n",
    "\n",
    "x = numpy.expand_dims(x, axis=0)\n",
    "\n",
    "x.shape"
   ]
  },
  {
   "cell_type": "code",
   "execution_count": 9,
   "id": "edff0b1201f73fe1",
   "metadata": {
    "ExecuteTime": {
     "end_time": "2024-04-18T20:39:32.386440Z",
     "start_time": "2024-04-18T20:39:32.095721Z"
    }
   },
   "outputs": [],
   "source": [
    "loaded_model = load_model('cifar_10_epochs.keras')"
   ]
  },
  {
   "cell_type": "code",
   "execution_count": 10,
   "id": "28132a5ee83e2e",
   "metadata": {
    "ExecuteTime": {
     "end_time": "2024-04-18T20:39:47.323604Z",
     "start_time": "2024-04-18T20:39:47.156856Z"
    }
   },
   "outputs": [
    {
     "name": "stdout",
     "output_type": "stream",
     "text": [
      "\u001b[1m1/1\u001b[0m \u001b[32m━━━━━━━━━━━━━━━━━━━━\u001b[0m\u001b[37m\u001b[0m \u001b[1m0s\u001b[0m 91ms/step\n",
      "[[2.5205739e-04 4.8596776e-06 2.0536834e-03 1.5352295e-02 4.8988128e-05\n",
      "  4.2953939e-04 9.8143905e-01 3.6506528e-06 4.0724248e-04 8.6241553e-06]]\n"
     ]
    }
   ],
   "source": [
    "# Запускаем распознавание объекта:\n",
    "\n",
    "prediction = loaded_model.predict(x)\n",
    "\n",
    "print(prediction)"
   ]
  },
  {
   "cell_type": "code",
   "execution_count": 11,
   "id": "148885a49b29833e",
   "metadata": {
    "ExecuteTime": {
     "end_time": "2024-04-18T20:39:57.320317Z",
     "start_time": "2024-04-18T20:39:57.314689Z"
    }
   },
   "outputs": [
    {
     "name": "stdout",
     "output_type": "stream",
     "text": [
      "лягушка\n"
     ]
    }
   ],
   "source": [
    "\n",
    "# Для удобства вывода задаем список с названиями классов объектов:\n",
    "\n",
    "classes=['самолет', 'автомобиль', 'птица', 'кот', 'олень', 'собака', 'лягушка', 'лошадь', 'корабль', 'грузовик']\n",
    "\n",
    "# Печатаем результат распознавания:\n",
    "\n",
    "print(classes[numpy.argmax(prediction)])"
   ]
  }
 ],
 "metadata": {
  "kernelspec": {
   "display_name": "Python 3",
   "language": "python",
   "name": "python3"
  },
  "language_info": {
   "codemirror_mode": {
    "name": "ipython",
    "version": 3
   },
   "file_extension": ".py",
   "mimetype": "text/x-python",
   "name": "python",
   "nbconvert_exporter": "python",
   "pygments_lexer": "ipython3",
   "version": "3.11.4"
  }
 },
 "nbformat": 4,
 "nbformat_minor": 5
}
