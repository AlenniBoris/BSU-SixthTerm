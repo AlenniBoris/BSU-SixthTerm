{
 "cells": [
  {
   "cell_type": "code",
   "execution_count": 1,
   "id": "95f2d43f2567860f",
   "metadata": {
    "ExecuteTime": {
     "end_time": "2024-04-18T20:22:39.341800Z",
     "start_time": "2024-04-18T20:22:39.337117Z"
    }
   },
   "outputs": [],
   "source": [
    "from keras.applications.vgg16 import VGG16\n",
    "\n",
    "from keras.preprocessing import image\n",
    "\n",
    "from keras.applications.vgg16 import preprocess_input, decode_predictions\n",
    "\n",
    "from keras.models import load_model\n",
    "\n",
    "import numpy as np"
   ]
  },
  {
   "cell_type": "code",
   "execution_count": 2,
   "id": "b6d088c1c58d8ca2",
   "metadata": {
    "ExecuteTime": {
     "end_time": "2024-04-18T20:21:52.387914Z",
     "start_time": "2024-04-18T20:20:49.239084Z"
    }
   },
   "outputs": [
    {
     "name": "stdout",
     "output_type": "stream",
     "text": [
      "Downloading data from https://storage.googleapis.com/tensorflow/keras-applications/vgg16/vgg16_weights_tf_dim_ordering_tf_kernels.h5\n",
      "\u001b[1m553467096/553467096\u001b[0m \u001b[32m━━━━━━━━━━━━━━━━━━━━\u001b[0m\u001b[37m\u001b[0m \u001b[1m50s\u001b[0m 0us/step\n"
     ]
    }
   ],
   "source": [
    "model = VGG16(weights='imagenet')"
   ]
  },
  {
   "cell_type": "code",
   "execution_count": 3,
   "id": "b76f560e03a206d0",
   "metadata": {
    "ExecuteTime": {
     "end_time": "2024-04-18T20:23:42.579165Z",
     "start_time": "2024-04-18T20:23:41.402934Z"
    }
   },
   "outputs": [],
   "source": [
    "model.save('vgg16.keras')"
   ]
  },
  {
   "cell_type": "code",
   "execution_count": 4,
   "id": "7ae5970f6d1df15c",
   "metadata": {
    "ExecuteTime": {
     "end_time": "2024-04-18T20:24:02.387083Z",
     "start_time": "2024-04-18T20:23:59.228637Z"
    }
   },
   "outputs": [],
   "source": [
    "model = load_model('vgg16.keras')"
   ]
  },
  {
   "cell_type": "code",
   "execution_count": 11,
   "id": "6b12bb23aac0d951",
   "metadata": {
    "ExecuteTime": {
     "end_time": "2024-04-18T20:24:56.473535Z",
     "start_time": "2024-04-18T20:24:56.447843Z"
    }
   },
   "outputs": [],
   "source": [
    "img = image.load_img('cat.jpg', target_size=(224, 224))\n",
    "\n",
    "x = image.img_to_array(img)\n",
    "\n",
    "x = np.expand_dims(x, axis=0)\n",
    "\n",
    "x = preprocess_input(x)"
   ]
  },
  {
   "cell_type": "code",
   "execution_count": 12,
   "id": "1d4c338157b2f81",
   "metadata": {
    "ExecuteTime": {
     "end_time": "2024-04-18T20:25:37.592833Z",
     "start_time": "2024-04-18T20:25:37.258623Z"
    }
   },
   "outputs": [
    {
     "name": "stdout",
     "output_type": "stream",
     "text": [
      "\u001b[1m1/1\u001b[0m \u001b[32m━━━━━━━━━━━━━━━━━━━━\u001b[0m\u001b[37m\u001b[0m \u001b[1m0s\u001b[0m 354ms/step\n"
     ]
    }
   ],
   "source": [
    "preds = model.predict(x)"
   ]
  },
  {
   "cell_type": "code",
   "execution_count": 13,
   "id": "7553ec54f4004a7d",
   "metadata": {
    "ExecuteTime": {
     "end_time": "2024-04-18T20:25:41.228979Z",
     "start_time": "2024-04-18T20:25:40.864093Z"
    }
   },
   "outputs": [
    {
     "name": "stdout",
     "output_type": "stream",
     "text": [
      "Результаты распознавания: [('n02124075', 'Egyptian_cat', 0.981187), ('n02123045', 'tabby', 0.0066039134), ('n02123159', 'tiger_cat', 0.0046887794)]\n"
     ]
    }
   ],
   "source": [
    "print('Результаты распознавания:', decode_predictions(preds, top=3)[0])"
   ]
  }
 ],
 "metadata": {
  "kernelspec": {
   "display_name": "Python 3",
   "language": "python",
   "name": "python3"
  },
  "language_info": {
   "codemirror_mode": {
    "name": "ipython",
    "version": 3
   },
   "file_extension": ".py",
   "mimetype": "text/x-python",
   "name": "python",
   "nbconvert_exporter": "python",
   "pygments_lexer": "ipython3",
   "version": "3.11.4"
  }
 },
 "nbformat": 4,
 "nbformat_minor": 5
}
