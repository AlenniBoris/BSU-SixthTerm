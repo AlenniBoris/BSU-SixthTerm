{
 "cells": [
  {
   "cell_type": "code",
   "execution_count": 1,
   "id": "initial_id",
   "metadata": {
    "ExecuteTime": {
     "end_time": "2024-04-18T20:29:00.844540Z",
     "start_time": "2024-04-18T20:29:00.839762Z"
    },
    "collapsed": true
   },
   "outputs": [],
   "source": [
    "from keras.applications.resnet50 import ResNet50\n",
    "\n",
    "from keras.preprocessing import image\n",
    "\n",
    "from keras.applications.resnet50 import preprocess_input, decode_predictions\n",
    "\n",
    "from keras.models import load_model\n",
    "\n",
    "import numpy as np"
   ]
  },
  {
   "cell_type": "code",
   "execution_count": 2,
   "id": "de58a725e155e108",
   "metadata": {
    "ExecuteTime": {
     "end_time": "2024-04-18T20:29:16.749544Z",
     "start_time": "2024-04-18T20:29:03.026149Z"
    }
   },
   "outputs": [
    {
     "name": "stdout",
     "output_type": "stream",
     "text": [
      "Downloading data from https://storage.googleapis.com/tensorflow/keras-applications/resnet/resnet50_weights_tf_dim_ordering_tf_kernels.h5\n",
      "\u001b[1m102967424/102967424\u001b[0m \u001b[32m━━━━━━━━━━━━━━━━━━━━\u001b[0m\u001b[37m\u001b[0m \u001b[1m9s\u001b[0m 0us/step\n"
     ]
    }
   ],
   "source": [
    "model = ResNet50(weights='imagenet')"
   ]
  },
  {
   "cell_type": "code",
   "execution_count": 3,
   "id": "c5ac43e0f76f10c3",
   "metadata": {
    "ExecuteTime": {
     "end_time": "2024-04-18T20:29:29.941533Z",
     "start_time": "2024-04-18T20:29:29.480671Z"
    }
   },
   "outputs": [],
   "source": [
    "model.save('resnet.keras')"
   ]
  },
  {
   "cell_type": "code",
   "execution_count": 4,
   "id": "6a6bf32366142ec9",
   "metadata": {
    "ExecuteTime": {
     "end_time": "2024-04-18T20:30:38.789273Z",
     "start_time": "2024-04-18T20:30:35.839931Z"
    }
   },
   "outputs": [],
   "source": [
    "model = load_model('resnet.keras')"
   ]
  },
  {
   "cell_type": "code",
   "execution_count": 9,
   "id": "b8d6fe45a855c8fe",
   "metadata": {
    "ExecuteTime": {
     "end_time": "2024-04-18T20:30:53.802600Z",
     "start_time": "2024-04-18T20:30:53.786896Z"
    }
   },
   "outputs": [],
   "source": [
    "img = image.load_img('cat.jpg', target_size=(224, 224))\n",
    "\n",
    "x = image.img_to_array(img)\n",
    "\n",
    "x = np.expand_dims(x, axis=0)\n",
    "\n",
    "x = preprocess_input(x)"
   ]
  },
  {
   "cell_type": "code",
   "execution_count": 10,
   "id": "44374c43f727f237",
   "metadata": {
    "ExecuteTime": {
     "end_time": "2024-04-18T20:31:04.200768Z",
     "start_time": "2024-04-18T20:31:02.909331Z"
    }
   },
   "outputs": [
    {
     "name": "stdout",
     "output_type": "stream",
     "text": [
      "\u001b[1m1/1\u001b[0m \u001b[32m━━━━━━━━━━━━━━━━━━━━\u001b[0m\u001b[37m\u001b[0m \u001b[1m0s\u001b[0m 116ms/step\n"
     ]
    }
   ],
   "source": [
    "preds = model.predict(x)"
   ]
  },
  {
   "cell_type": "code",
   "execution_count": 11,
   "id": "147ef4183ab1c4a8",
   "metadata": {
    "ExecuteTime": {
     "end_time": "2024-04-18T20:31:13.251905Z",
     "start_time": "2024-04-18T20:31:13.247214Z"
    }
   },
   "outputs": [
    {
     "name": "stdout",
     "output_type": "stream",
     "text": [
      "Результаты распознавания: [('n02124075', 'Egyptian_cat', 0.962845), ('n02127052', 'lynx', 0.015714962), ('n02123045', 'tabby', 0.01539297)]\n"
     ]
    }
   ],
   "source": [
    "print('Результаты распознавания:', decode_predictions(preds, top=3)[0])"
   ]
  }
 ],
 "metadata": {
  "kernelspec": {
   "display_name": "Python 3",
   "language": "python",
   "name": "python3"
  },
  "language_info": {
   "codemirror_mode": {
    "name": "ipython",
    "version": 3
   },
   "file_extension": ".py",
   "mimetype": "text/x-python",
   "name": "python",
   "nbconvert_exporter": "python",
   "pygments_lexer": "ipython3",
   "version": "3.11.4"
  }
 },
 "nbformat": 4,
 "nbformat_minor": 5
}
