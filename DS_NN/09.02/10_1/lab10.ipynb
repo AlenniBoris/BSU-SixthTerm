{
 "cells": [
  {
   "cell_type": "markdown",
   "source": [
    "# Задание 1 #"
   ],
   "metadata": {
    "collapsed": false,
    "pycharm": {
     "name": "#%% md\n"
    }
   }
  },
  {
   "cell_type": "code",
   "execution_count": 1,
   "metadata": {
    "collapsed": true,
    "pycharm": {
     "name": "#%%\n"
    }
   },
   "outputs": [
    {
     "name": "stdout",
     "output_type": "stream",
     "text": [
      "Epoch 1/3\n",
      "176/176 [==============================] - 42s 223ms/step - loss: 0.5634 - accuracy: 0.7004 - val_loss: 0.3697 - val_accuracy: 0.8520\n",
      "Epoch 2/3\n",
      "176/176 [==============================] - 41s 233ms/step - loss: 0.2978 - accuracy: 0.8828 - val_loss: 0.3189 - val_accuracy: 0.8644\n",
      "Epoch 3/3\n",
      "176/176 [==============================] - 43s 242ms/step - loss: 0.2231 - accuracy: 0.9172 - val_loss: 0.2909 - val_accuracy: 0.8788\n",
      "782/782 [==============================] - 23s 30ms/step - loss: 0.3022 - accuracy: 0.8710\n",
      "Точность на тестовых данных: 87.10%\n"
     ]
    }
   ],
   "source": [
    "import numpy as np\n",
    "from keras.utils import pad_sequences\n",
    "from keras.models import Sequential\n",
    "from keras.layers import Dense, Embedding\n",
    "from keras.layers import LSTM\n",
    "from keras.datasets import imdb\n",
    "\n",
    "# Устанавливаем seed для повторяемости результатов\n",
    "np.random.seed(42)\n",
    "# Максимальное количество слов (по частоте использования)\n",
    "max_words = 10000\n",
    "# Максимальная длина рецензии в словах\n",
    "max_len = 200\n",
    "\n",
    "# Загружаем данные\n",
    "(X_train, y_train), (X_test, y_test) = imdb.load_data(num_words=max_words)\n",
    "\n",
    "# Заполняем или обрезаем рецензии\n",
    "X_train = pad_sequences(X_train, maxlen=max_len)\n",
    "X_test = pad_sequences(X_test, maxlen=max_len)\n",
    "\n",
    "# Создаем сеть\n",
    "model = Sequential()\n",
    "# Слой для векторного представления слов\n",
    "model.add(Embedding(max_words, 8, input_length= max_len))\n",
    "# Слой долго-краткосрочной памяти\n",
    "model.add(LSTM(32, recurrent_dropout=0.2))\n",
    "# Полносвязный слой\n",
    "model.add(Dense(1, activation=\"sigmoid\"))\n",
    "\n",
    "# Копмилируем модель\n",
    "model.compile(loss='binary_crossentropy',\n",
    "              optimizer='adam',\n",
    "              metrics=['accuracy'])\n",
    "\n",
    "# Обучаем модель\n",
    "model.fit(X_train, y_train, epochs=3, batch_size=128, validation_split=0.1, verbose=1)\n",
    "\n",
    "# Проверяем качество обучения на тестовых данных\n",
    "scores = model.evaluate(X_test, y_test, verbose=1)\n",
    "print(\"Точность на тестовых данных: %.2f%%\" % (scores[1] * 100))"
   ]
  },
  {
   "cell_type": "code",
   "execution_count": 2,
   "outputs": [
    {
     "name": "stdout",
     "output_type": "stream",
     "text": [
      "\n",
      "Сохраняем сеть\n",
      "Сохранение сети завершено\n"
     ]
    }
   ],
   "source": [
    "# Сохраняем сеть для последующего использования\n",
    "print(\"\\nСохраняем сеть\")\n",
    "model_json = model.to_json()\n",
    "json_file = open('saved_networks/lstm_net.json', \"w\")\n",
    "json_file.write(model_json)\n",
    "json_file.close()\n",
    "model.save_weights('saved_networks/lstm_net.h5')\n",
    "print(\"Сохранение сети завершено\")"
   ],
   "metadata": {
    "collapsed": false,
    "pycharm": {
     "name": "#%%\n"
    }
   }
  },
  {
   "cell_type": "markdown",
   "source": [
    "# Задание 2 #"
   ],
   "metadata": {
    "collapsed": false,
    "pycharm": {
     "name": "#%% md\n"
    }
   }
  },
  {
   "cell_type": "code",
   "execution_count": 3,
   "outputs": [
    {
     "name": "stdout",
     "output_type": "stream",
     "text": [
      "1/1 [==============================] - 1s 903ms/step\n",
      "[[0.05708293]]\n",
      "негативный\n"
     ]
    }
   ],
   "source": [
    "import numpy as np\n",
    "from keras.utils import pad_sequences\n",
    "from keras.models import model_from_json\n",
    "from keras.datasets import imdb\n",
    "\n",
    "max_words = 10000\n",
    "max_len = 200\n",
    "# Список классов\n",
    "classes = ['негативный', 'положительный']\n",
    "\n",
    "json_file = open('saved_networks/lstm_net.json', \"r\")\n",
    "loaded_model_json = json_file.read()\n",
    "json_file.close()\n",
    "loaded_model = model_from_json(loaded_model_json)\n",
    "loaded_model.load_weights('saved_networks/lstm_net.h5')\n",
    "\n",
    "loaded_model.compile(loss='binary_crossentropy', optimizer='adam', metrics=['accuracy'])\n",
    "\n",
    "# Переводим текст рецензии в нужный вид\n",
    "word_to_id = imdb.get_word_index()\n",
    "word_to_id = {k: (v + 3) for k, v in word_to_id.items()}\n",
    "file = open('reviews/negative.txt', \"r\")\n",
    "text = file.read()\n",
    "text = text.replace(',', '').replace('.', '').replace('!', '').replace('?', '').replace(':', '').replace(';', '')\n",
    "words = text.split()\n",
    "review = []\n",
    "words = [word.lower() for word in words]\n",
    "seq = []\n",
    "for word in words:\n",
    "    if word in word_to_id and word_to_id[word] < max_words:\n",
    "        seq.append(word_to_id[word])\n",
    "    else:\n",
    "        seq.append(2)\n",
    "x = np.array([seq])\n",
    "x = pad_sequences(x, maxlen=max_len)\n",
    "\n",
    "prediction = loaded_model.predict(x)\n",
    "\n",
    "print(prediction)\n",
    "print(classes[round(prediction[0][0])])"
   ],
   "metadata": {
    "collapsed": false,
    "pycharm": {
     "name": "#%%\n"
    }
   }
  },
  {
   "cell_type": "code",
   "execution_count": 9,
   "outputs": [],
   "source": [],
   "metadata": {
    "collapsed": false,
    "pycharm": {
     "name": "#%%\n"
    }
   }
  }
 ],
 "metadata": {
  "kernelspec": {
   "display_name": "Python 3",
   "language": "python",
   "name": "python3"
  },
  "language_info": {
   "codemirror_mode": {
    "name": "ipython",
    "version": 2
   },
   "file_extension": ".py",
   "mimetype": "text/x-python",
   "name": "python",
   "nbconvert_exporter": "python",
   "pygments_lexer": "ipython2",
   "version": "2.7.6"
  }
 },
 "nbformat": 4,
 "nbformat_minor": 0
}